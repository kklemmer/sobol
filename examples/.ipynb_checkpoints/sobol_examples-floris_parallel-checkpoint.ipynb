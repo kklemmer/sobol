{
 "cells": [
  {
   "cell_type": "code",
   "execution_count": 1,
   "id": "b5cbbd24-27d5-47a8-8d39-21bc23f56862",
   "metadata": {
    "tags": []
   },
   "outputs": [],
   "source": [
    "from sobol import sobolIndices, inputParam\n",
    "import numpy as np\n",
    "\n",
    "from scipy.stats import uniform, norm\n",
    "\n",
    "import matplotlib.pyplot as plt\n",
    "\n",
    "%load_ext autoreload\n",
    "%autoreload 2"
   ]
  },
  {
   "cell_type": "markdown",
   "id": "64192e93-ac60-44e7-b17e-a501185c25ac",
   "metadata": {},
   "source": [
    "# Sobol indices example with the Ishigami function\n",
    "\n",
    "$y = \\sin{x_1} + a \\sin^2{x_2} + b x_3^4 \\sin{x_1}$"
   ]
  },
  {
   "cell_type": "code",
   "execution_count": 2,
   "id": "acbdc0fa-a84f-4e69-870d-2211a94d98ef",
   "metadata": {
    "tags": []
   },
   "outputs": [],
   "source": [
    "def ishigami(x_array):\n",
    "    \n",
    "    x1 = x_array[:,0]\n",
    "    x2 = x_array[:,1]\n",
    "    x3 = x_array[:,2]\n",
    "    \n",
    "    a = 5\n",
    "    b = 0.1\n",
    "    \n",
    "    return np.sin(x1) + a*np.sin(x2)**2 + b*x3**4 * np.sin(x1)"
   ]
  },
  {
   "cell_type": "code",
   "execution_count": 3,
   "id": "8679d96a-e67f-40bd-8c8a-9b5302e1074d",
   "metadata": {
    "tags": []
   },
   "outputs": [],
   "source": [
    "prior = uniform(loc=-np.pi, scale = 2*np.pi)\n",
    "\n",
    "input_params = {'x1' : inputParam(prior), 'x2' : inputParam(prior), 'x3' : inputParam(prior)}"
   ]
  },
  {
   "cell_type": "code",
   "execution_count": 4,
   "id": "beda993e-c3b6-4b2e-9178-0f1d58a66620",
   "metadata": {
    "tags": []
   },
   "outputs": [],
   "source": [
    "indices = sobolIndices(model=ishigami, params=input_params)"
   ]
  },
  {
   "cell_type": "code",
   "execution_count": 5,
   "id": "942be2b5-b816-4e46-b660-caab99baa402",
   "metadata": {
    "tags": []
   },
   "outputs": [],
   "source": [
    "indices.sobol_calc()"
   ]
  },
  {
   "cell_type": "code",
   "execution_count": 6,
   "id": "01f6a7eb-2984-41a9-8e22-49257864c6f6",
   "metadata": {
    "tags": []
   },
   "outputs": [
    {
     "data": {
      "text/plain": [
       "<matplotlib.legend.Legend at 0x2aaaeabb12b0>"
      ]
     },
     "execution_count": 6,
     "metadata": {},
     "output_type": "execute_result"
    },
    {
     "data": {
      "image/png": "[encoded data removed]",
      "text/plain": [
       "<Figure size 640x480 with 1 Axes>"
      ]
     },
     "metadata": {},
     "output_type": "display_data"
    }
   ],
   "source": [
    "fig, ax = plt.subplots()\n",
    "\n",
    "i = 0\n",
    "for _,param in indices.params.items():\n",
    "    if i==0:\n",
    "        ax.bar(i, param.s1, color='tab:blue', label='First order')\n",
    "        ax.bar(i+1, param.sT, color='tab:red', label = 'Total')\n",
    "    else:\n",
    "        ax.bar(i, param.s1, color='tab:blue')\n",
    "        ax.bar(i+1, param.sT, color='tab:red')\n",
    "    i+=3\n",
    "    \n",
    "xlabels = ['x1', 'x2', 'x3']\n",
    "\n",
    "xticks = [1/2 + j*3 for j in range(len(xlabels))]\n",
    "\n",
    "ax.set_xticks(xticks)\n",
    "\n",
    "ax.set_xticklabels(xlabels)\n",
    "    \n",
    "fig.legend(frameon=False, bbox_to_anchor=(0.9,0.85))"
   ]
  },
  {
   "cell_type": "markdown",
   "id": "925c54e0-345c-4c95-987e-8b9f8763bd1e",
   "metadata": {
    "tags": []
   },
   "source": [
    "# Simple floris example"
   ]
  },
  {
   "cell_type": "code",
   "execution_count": 5,
   "id": "9cd1d217-b900-413d-b011-3887eb515459",
   "metadata": {
    "tags": []
   },
   "outputs": [],
   "source": [
    "from floris.tools import FlorisInterface\n",
    "import yaml\n",
    "import pandas as pd"
   ]
  },
  {
   "cell_type": "code",
   "execution_count": 28,
   "id": "0bed9b2c-ceca-44e1-98eb-f8a05d3696cb",
   "metadata": {
    "tags": []
   },
   "outputs": [
    {
     "name": "stdout",
     "output_type": "stream",
     "text": [
      "100\n"
     ]
    }
   ],
   "source": [
    "param_names = ['wd', 'ws', 'ti', 'n_turb', 'n_comb']\n",
    "\n",
    "df = pd.read_csv('/nobackup1/kklemmer/VW1_data/NREL_VW1_140m_2017.csv', header=2)\n",
    "\n",
    "ti = np.divide(np.sqrt(2*np.array(df['turbulent kinetic energy at 140m (m2/s2)'])),\n",
    "               np.array(df['wind speed at 140m (m/s)']))\n",
    "\n",
    "df_dict = {'wd' : np.array(df['wind direction at 140m (deg)']), \n",
    "           'ws' : np.array(df['wind speed at 140m (m/s)']),\n",
    "           'ti' : ti}\n",
    "\n",
    "wd_ws_ti_df = pd.DataFrame(data=df_dict)\n",
    "\n",
    "# ti_df = wd_ws_ti_df.copy()\n",
    "# ti_df['wd'] = 270\n",
    "# ti_df['ws'] = 10\n",
    "\n",
    "ka_prior = uniform(loc=0, scale=0.38)\n",
    "kb_prior = uniform(loc=0, scale=0.004)\n",
    "n_prior = uniform(loc=1, scale=1)\n",
    "\n",
    "input_params = {'wd_ws_ti' : inputParam(wd_ws_ti_df, group=True),\n",
    "                'n_turb' : inputParam(n_prior),\n",
    "                'n_comb' : inputParam(n_prior)}\n",
    "\n",
    "indices = sobolIndices(model=floris_model_func, params=input_params, model_params = param_names, N=100)"
   ]
  },
  {
   "cell_type": "code",
   "execution_count": null,
   "id": "ba57cefb-fff7-4f0c-afc6-6896cd2fffd6",
   "metadata": {
    "tags": []
   },
   "outputs": [],
   "source": [
    "indices.sobol_calc()"
   ]
  },
  {
   "cell_type": "code",
   "execution_count": 31,
   "id": "642c591e-2827-4c60-927a-f429e99e8d0f",
   "metadata": {
    "tags": []
   },
   "outputs": [
    {
     "data": {
      "text/plain": [
       "<matplotlib.legend.Legend at 0x2aaaeca88200>"
      ]
     },
     "execution_count": 31,
     "metadata": {},
     "output_type": "execute_result"
    },
    {
     "data": {
      "image/png": "[encoded data removed]",
      "text/plain": [
       "<Figure size 640x480 with 1 Axes>"
      ]
     },
     "metadata": {},
     "output_type": "display_data"
    }
   ],
   "source": [
    "fig, ax = plt.subplots()\n",
    "\n",
    "i = 0\n",
    "for _,param in indices.params.items():\n",
    "    if i==0:\n",
    "        ax.bar(i, param.s1, color='tab:blue', label='First order')\n",
    "        ax.bar(i+1, param.sT, color='tab:red', label = 'Total')\n",
    "    else:\n",
    "        ax.bar(i, param.s1, color='tab:blue')\n",
    "        ax.bar(i+1, param.sT, color='tab:red')\n",
    "    i+=3\n",
    "    \n",
    "xlabels = input_params.keys()\n",
    "\n",
    "xticks = [1/2 + j*3 for j in range(len(xlabels))]\n",
    "\n",
    "ax.set_xticks(xticks)\n",
    "\n",
    "ax.set_xticklabels(xlabels)\n",
    "    \n",
    "fig.legend(frameon=False, bbox_to_anchor=(0.9,0.85))"
   ]
  },
  {
   "cell_type": "code",
   "execution_count": 24,
   "id": "812bd9e9-661d-4c73-bb9a-8ddcd0dce138",
   "metadata": {
    "tags": []
   },
   "outputs": [],
   "source": [
    "# functions for combining floris and sobol\n",
    "\n",
    "def make_model_params_dict(matrix, param_names):\n",
    "    model_params = {}\n",
    "    \n",
    "    for i in range(len(param_names)):\n",
    "        model_params[param_names[i]] = matrix[:,i]\n",
    "        \n",
    "    return model_params\n",
    "\n",
    "def update_fi_params(fd, model_params, row):\n",
    "    for key in model_params:\n",
    "        # check for input wind condition parameters\n",
    "        if key == 'wd':\n",
    "            fd['flow_field']['wind_directions'] = [model_params['wd'][row]]\n",
    "        elif key == 'ws':\n",
    "            fd['flow_field']['wind_speeds'] = [model_params['ws'][row]]\n",
    "        elif key == 'ti':\n",
    "            fd['flow_field']['turbulence_intensity'] = model_params['ti'][row]\n",
    "\n",
    "        # check for wake model form parameters\n",
    "        elif key == 'n_turb':\n",
    "            fd['wake']['wake_turbulence_parameters']['crespo_hernandez']['n'] = model_params['n_turb'][row]\n",
    "        elif key == 'n_comb':\n",
    "            fd['wake']['wake_combination_parameters']['sosfs']['n'] = model_params['n_comb'][row]\n",
    "        # check for wake model parameters\n",
    "        # for now use predefined parameters so the searching isn't an issue\n",
    "        elif key == 'ka':\n",
    "            fd['wake']['wake_velocity_parameters']['gauss']['ka'] = model_params['ka'][row]\n",
    "        elif key == 'kb':\n",
    "            fd['wake']['wake_velocity_parameters']['gauss']['kb'] = model_params['kb'][row]\n",
    "        else: \n",
    "            print(\"Key {} not found. Available parameters to change are wd, ws, ti, ka, and kb.\".format(key))\n",
    "            \n",
    "    # create new floris interface with updated parameters\n",
    "    fi = FlorisInterface(fd)\n",
    "    \n",
    "    return fi\n",
    "        \n",
    "def farm_power_calc(fi):\n",
    "\n",
    "    # Calculate FLORIS for the WD,WS,TI combination                                                                                                                               \n",
    "    fi.calculate_wake()\n",
    "\n",
    "    # Calculate farm power                                                                                                                                                        \n",
    "    # Sort out NaN and negative turbine power values                                                                                                                              \n",
    "    turbine_power = fi.get_turbine_powers()\n",
    "    turbine_power[turbine_power<0] = 0\n",
    "    turbine_power = np.nan_to_num(turbine_power)\n",
    "\n",
    "    # Return the farm power from the above calculation in W                                                                                                                       \n",
    "    farm_power = np.sum(turbine_power)\n",
    "\n",
    "    return farm_power\n",
    "\n",
    "def floris_model_func(input_params_matrix, param_names):\n",
    "    # Function that is given as an input to the sobolIndices class\n",
    "    # Needs to take a matrix of input parameter samples and output farm power\n",
    "    # param_names is also given to parse the names of the parameters\n",
    "\n",
    "    fi = FlorisInterface('/home/kklemmer/floris/examples/inputs/gch.yaml')\n",
    "    \n",
    "        ### Define farm orientation ###                                                                                                                                               \n",
    "    df_tl = pd.read_csv('/home/kklemmer/floris/examples/inputs/VW1_turbine_locations_byD.csv', header=None)\n",
    "\n",
    "    # turbine hub height (IEA Wind 15MW)                                                                                                                                           \n",
    "    H = 140\n",
    "    # rotor diameter (IEA Wind 15-MW)                                                                                                                                              \n",
    "    D = 150\n",
    "\n",
    "    # x coordinates                                                                                                                                                               \n",
    "    x_coords = np.array(df_tl[0])\n",
    "    layout_x = D*x_coords\n",
    "    #y coordinates                                                                                                                                                                \n",
    "    y_coords = np.array(df_tl[1])\n",
    "    layout_y = D*y_coords\n",
    "\n",
    "    # Reinitialize with layout from previous relevant kernel                                                                                                                      \n",
    "    fi.reinitialize(layout_x=layout_x, layout_y=layout_y)\n",
    "    \n",
    "    with open('/home/kklemmer/floris/examples/inputs/gch.yaml', 'r') as stream:\n",
    "        fd=yaml.safe_load(stream)\n",
    "            \n",
    "            \n",
    "    fd['farm']['layout_x'] = layout_x\n",
    "    fd['farm']['layout_y'] = layout_y\n",
    "    \n",
    "    N = np.shape(input_params_matrix)[0]\n",
    "        \n",
    "    f = np.zeros([N,])\n",
    "    \n",
    "    model_params = make_model_params_dict(input_params_matrix, param_names)\n",
    "\n",
    "    for row in range(N):\n",
    "        # loop over samples\n",
    "\n",
    "        # update fi\n",
    "        fi = update_fi_params(fd, model_params, row)\n",
    "\n",
    "        # calculate farm power\n",
    "        f[row] = farm_power_calc(fi)\n",
    "        print(row)\n",
    "    return f\n",
    "    "
   ]
  },
  {
   "cell_type": "code",
   "execution_count": 6,
   "id": "22e2d0c6-7f2e-4f1c-ba90-a016e08d3cf6",
   "metadata": {
    "tags": []
   },
   "outputs": [
    {
     "name": "stdout",
     "output_type": "stream",
     "text": [
      "Starting 4 engines with <class 'ipyparallel.cluster.launcher.MPIEngineSetLauncher'>\n",
      "  0%|          | 0/4 [00:00<?, ?engine/s]engine set stopped 1705696095: {'exit_code': 1, 'pid': 16670, 'identifier': 'ipengine-1705696094-7ira-1705696095-15309'}\n",
      "  0%|          | 0/4 [00:03<?, ?engine/s]\n"
     ]
    },
    {
     "ename": "EngineError",
     "evalue": "Engine set stopped: {'exit_code': 1, 'pid': 16670, 'identifier': 'ipengine-1705696094-7ira-1705696095-15309'}",
     "output_type": "error",
     "traceback": [
      "\u001b[0;31m---------------------------------------------------------------------------\u001b[0m",
      "\u001b[0;31mEngineError\u001b[0m                               Traceback (most recent call last)",
      "Cell \u001b[0;32mIn[6], line 9\u001b[0m\n\u001b[1;32m      6\u001b[0m     \u001b[38;5;28;01mreturn\u001b[39;00m \u001b[38;5;124mf\u001b[39m\u001b[38;5;124m\"\u001b[39m\u001b[38;5;124mHello World from rank \u001b[39m\u001b[38;5;132;01m{\u001b[39;00mcomm\u001b[38;5;241m.\u001b[39mGet_rank()\u001b[38;5;132;01m}\u001b[39;00m\u001b[38;5;124m. total ranks=\u001b[39m\u001b[38;5;132;01m{\u001b[39;00mcomm\u001b[38;5;241m.\u001b[39mGet_size()\u001b[38;5;132;01m}\u001b[39;00m\u001b[38;5;124m\"\u001b[39m\n\u001b[1;32m      8\u001b[0m \u001b[38;5;66;03m# request an MPI cluster with 4 engines\u001b[39;00m\n\u001b[0;32m----> 9\u001b[0m \u001b[38;5;28;01mwith\u001b[39;00m ipp\u001b[38;5;241m.\u001b[39mCluster(engines\u001b[38;5;241m=\u001b[39m\u001b[38;5;124m'\u001b[39m\u001b[38;5;124mmpi\u001b[39m\u001b[38;5;124m'\u001b[39m, n\u001b[38;5;241m=\u001b[39m\u001b[38;5;241m4\u001b[39m) \u001b[38;5;28;01mas\u001b[39;00m rc:\n\u001b[1;32m     10\u001b[0m     \u001b[38;5;66;03m# get a broadcast_view on the cluster which is best\u001b[39;00m\n\u001b[1;32m     11\u001b[0m     \u001b[38;5;66;03m# suited for MPI style computation\u001b[39;00m\n\u001b[1;32m     12\u001b[0m     view \u001b[38;5;241m=\u001b[39m rc\u001b[38;5;241m.\u001b[39mbroadcast_view()\n\u001b[1;32m     13\u001b[0m     \u001b[38;5;66;03m# run the mpi_example function on all engines in parallel\u001b[39;00m\n",
      "File \u001b[0;32m~/.conda/envs/florisenv/lib/python3.12/site-packages/ipyparallel/cluster/cluster.py:907\u001b[0m, in \u001b[0;36mCluster.__enter__\u001b[0;34m(self)\u001b[0m\n\u001b[1;32m    906\u001b[0m \u001b[38;5;28;01mdef\u001b[39;00m \u001b[38;5;21m__enter__\u001b[39m(\u001b[38;5;28mself\u001b[39m):\n\u001b[0;32m--> 907\u001b[0m     client \u001b[38;5;241m=\u001b[39m \u001b[38;5;28mself\u001b[39m\u001b[38;5;241m.\u001b[39m_context_client \u001b[38;5;241m=\u001b[39m \u001b[38;5;28mself\u001b[39m\u001b[38;5;241m.\u001b[39mstart_and_connect_sync()\n\u001b[1;32m    908\u001b[0m     \u001b[38;5;28;01mreturn\u001b[39;00m client\n",
      "File \u001b[0;32m~/.conda/envs/florisenv/lib/python3.12/site-packages/ipyparallel/_async.py:70\u001b[0m, in \u001b[0;36mAsyncFirst._synchronize\u001b[0;34m(self, async_f, *args, **kwargs)\u001b[0m\n\u001b[1;32m     68\u001b[0m     loop \u001b[38;5;241m=\u001b[39m \u001b[38;5;28;01mNone\u001b[39;00m\n\u001b[1;32m     69\u001b[0m \u001b[38;5;28;01mif\u001b[39;00m loop:\n\u001b[0;32m---> 70\u001b[0m     \u001b[38;5;28;01mreturn\u001b[39;00m \u001b[38;5;28mself\u001b[39m\u001b[38;5;241m.\u001b[39m_in_thread(async_f, \u001b[38;5;241m*\u001b[39margs, \u001b[38;5;241m*\u001b[39m\u001b[38;5;241m*\u001b[39mkwargs)\n\u001b[1;32m     71\u001b[0m \u001b[38;5;28;01melse\u001b[39;00m:\n\u001b[1;32m     72\u001b[0m     \u001b[38;5;28;01mreturn\u001b[39;00m _asyncio_run(async_f(\u001b[38;5;241m*\u001b[39margs, \u001b[38;5;241m*\u001b[39m\u001b[38;5;241m*\u001b[39mkwargs))\n",
      "File \u001b[0;32m~/.conda/envs/florisenv/lib/python3.12/site-packages/ipyparallel/_async.py:56\u001b[0m, in \u001b[0;36mAsyncFirst._in_thread\u001b[0;34m(self, async_f, *args, **kwargs)\u001b[0m\n\u001b[1;32m     53\u001b[0m         future\u001b[38;5;241m.\u001b[39mset_exception(e)\n\u001b[1;32m     55\u001b[0m \u001b[38;5;28mself\u001b[39m\u001b[38;5;241m.\u001b[39m_thread_loop\u001b[38;5;241m.\u001b[39madd_callback(thread_callback)\n\u001b[0;32m---> 56\u001b[0m \u001b[38;5;28;01mreturn\u001b[39;00m future\u001b[38;5;241m.\u001b[39mresult()\n",
      "File \u001b[0;32m~/.conda/envs/florisenv/lib/python3.12/concurrent/futures/_base.py:456\u001b[0m, in \u001b[0;36mFuture.result\u001b[0;34m(self, timeout)\u001b[0m\n\u001b[1;32m    454\u001b[0m     \u001b[38;5;28;01mraise\u001b[39;00m CancelledError()\n\u001b[1;32m    455\u001b[0m \u001b[38;5;28;01melif\u001b[39;00m \u001b[38;5;28mself\u001b[39m\u001b[38;5;241m.\u001b[39m_state \u001b[38;5;241m==\u001b[39m FINISHED:\n\u001b[0;32m--> 456\u001b[0m     \u001b[38;5;28;01mreturn\u001b[39;00m \u001b[38;5;28mself\u001b[39m\u001b[38;5;241m.\u001b[39m__get_result()\n\u001b[1;32m    457\u001b[0m \u001b[38;5;28;01melse\u001b[39;00m:\n\u001b[1;32m    458\u001b[0m     \u001b[38;5;28;01mraise\u001b[39;00m \u001b[38;5;167;01mTimeoutError\u001b[39;00m()\n",
      "File \u001b[0;32m~/.conda/envs/florisenv/lib/python3.12/concurrent/futures/_base.py:401\u001b[0m, in \u001b[0;36mFuture.__get_result\u001b[0;34m(self)\u001b[0m\n\u001b[1;32m    399\u001b[0m \u001b[38;5;28;01mif\u001b[39;00m \u001b[38;5;28mself\u001b[39m\u001b[38;5;241m.\u001b[39m_exception:\n\u001b[1;32m    400\u001b[0m     \u001b[38;5;28;01mtry\u001b[39;00m:\n\u001b[0;32m--> 401\u001b[0m         \u001b[38;5;28;01mraise\u001b[39;00m \u001b[38;5;28mself\u001b[39m\u001b[38;5;241m.\u001b[39m_exception\n\u001b[1;32m    402\u001b[0m     \u001b[38;5;28;01mfinally\u001b[39;00m:\n\u001b[1;32m    403\u001b[0m         \u001b[38;5;66;03m# Break a reference cycle with the exception in self._exception\u001b[39;00m\n\u001b[1;32m    404\u001b[0m         \u001b[38;5;28mself\u001b[39m \u001b[38;5;241m=\u001b[39m \u001b[38;5;28;01mNone\u001b[39;00m\n",
      "File \u001b[0;32m~/.conda/envs/florisenv/lib/python3.12/site-packages/ipyparallel/_async.py:51\u001b[0m, in \u001b[0;36mAsyncFirst._in_thread.<locals>.thread_callback\u001b[0;34m()\u001b[0m\n\u001b[1;32m     49\u001b[0m \u001b[38;5;28;01masync\u001b[39;00m \u001b[38;5;28;01mdef\u001b[39;00m \u001b[38;5;21mthread_callback\u001b[39m():\n\u001b[1;32m     50\u001b[0m     \u001b[38;5;28;01mtry\u001b[39;00m:\n\u001b[0;32m---> 51\u001b[0m         future\u001b[38;5;241m.\u001b[39mset_result(\u001b[38;5;28;01mawait\u001b[39;00m async_f(\u001b[38;5;241m*\u001b[39margs, \u001b[38;5;241m*\u001b[39m\u001b[38;5;241m*\u001b[39mkwargs))\n\u001b[1;32m     52\u001b[0m     \u001b[38;5;28;01mexcept\u001b[39;00m \u001b[38;5;167;01mException\u001b[39;00m \u001b[38;5;28;01mas\u001b[39;00m e:\n\u001b[1;32m     53\u001b[0m         future\u001b[38;5;241m.\u001b[39mset_exception(e)\n",
      "File \u001b[0;32m~/.conda/envs/florisenv/lib/python3.12/site-packages/ipyparallel/cluster/cluster.py:757\u001b[0m, in \u001b[0;36mCluster.start_and_connect\u001b[0;34m(self, n, activate)\u001b[0m\n\u001b[1;32m    754\u001b[0m     n \u001b[38;5;241m=\u001b[39m \u001b[38;5;28msum\u001b[39m(engine_set\u001b[38;5;241m.\u001b[39mn \u001b[38;5;28;01mfor\u001b[39;00m engine_set \u001b[38;5;129;01min\u001b[39;00m \u001b[38;5;28mself\u001b[39m\u001b[38;5;241m.\u001b[39mengines\u001b[38;5;241m.\u001b[39mvalues())\n\u001b[1;32m    756\u001b[0m \u001b[38;5;28;01mif\u001b[39;00m n:\n\u001b[0;32m--> 757\u001b[0m     \u001b[38;5;28;01mawait\u001b[39;00m asyncio\u001b[38;5;241m.\u001b[39mwrap_future(\n\u001b[1;32m    758\u001b[0m         client\u001b[38;5;241m.\u001b[39mwait_for_engines(n, block\u001b[38;5;241m=\u001b[39m\u001b[38;5;28;01mFalse\u001b[39;00m, timeout\u001b[38;5;241m=\u001b[39m\u001b[38;5;28mself\u001b[39m\u001b[38;5;241m.\u001b[39mengine_timeout)\n\u001b[1;32m    759\u001b[0m     )\n\u001b[1;32m    761\u001b[0m \u001b[38;5;28;01mif\u001b[39;00m activate:\n\u001b[1;32m    762\u001b[0m     view \u001b[38;5;241m=\u001b[39m client[:]\n",
      "\u001b[0;31mEngineError\u001b[0m: Engine set stopped: {'exit_code': 1, 'pid': 16670, 'identifier': 'ipengine-1705696094-7ira-1705696095-15309'}"
     ]
    },
    {
     "name": "stdout",
     "output_type": "stream",
     "text": [
      "Controller stopped: {'exit_code': 0, 'pid': 16638, 'identifier': 'ipcontroller-1705696094-7ira-15309'}\n"
     ]
    }
   ],
   "source": [
    "import ipyparallel as ipp\n",
    "\n",
    "def mpi_example():\n",
    "    from mpi4py import MPI\n",
    "    comm = MPI.COMM_WORLD\n",
    "    return f\"Hello World from rank {comm.Get_rank()}. total ranks={comm.Get_size()}\"\n",
    "\n",
    "# request an MPI cluster with 4 engines\n",
    "with ipp.Cluster(engines='mpi', n=4) as rc:\n",
    "    # get a broadcast_view on the cluster which is best\n",
    "    # suited for MPI style computation\n",
    "    view = rc.broadcast_view()\n",
    "    # run the mpi_example function on all engines in parallel\n",
    "    r = view.apply_sync(mpi_example)\n",
    "    # Retrieve and print the result from the engines\n",
    "    print(\"\\n\".join(r))\n",
    "# at this point, the cluster processes have been shutdown"
   ]
  },
  {
   "cell_type": "code",
   "execution_count": 7,
   "id": "5e216ee5-ccfd-48d2-b571-edc73727c8ce",
   "metadata": {
    "tags": []
   },
   "outputs": [
    {
     "ename": "OSError",
     "evalue": "You have attempted to connect to an IPython Cluster but no Controller could be found.\nPlease double-check your configuration and ensure that a cluster is running.",
     "output_type": "error",
     "traceback": [
      "\u001b[0;31m---------------------------------------------------------------------------\u001b[0m",
      "\u001b[0;31mOSError\u001b[0m                                   Traceback (most recent call last)",
      "Cell \u001b[0;32mIn[7], line 2\u001b[0m\n\u001b[1;32m      1\u001b[0m \u001b[38;5;28;01mimport\u001b[39;00m \u001b[38;5;21;01mipyparallel\u001b[39;00m \u001b[38;5;28;01mas\u001b[39;00m \u001b[38;5;21;01mipp\u001b[39;00m\n\u001b[0;32m----> 2\u001b[0m rc \u001b[38;5;241m=\u001b[39m ipp\u001b[38;5;241m.\u001b[39mClient(profile\u001b[38;5;241m=\u001b[39m\u001b[38;5;124m'\u001b[39m\u001b[38;5;124mmpi\u001b[39m\u001b[38;5;124m'\u001b[39m)\n\u001b[1;32m      3\u001b[0m rc\u001b[38;5;241m.\u001b[39mids\n",
      "File \u001b[0;32m~/.conda/envs/florisenv/lib/python3.12/site-packages/ipyparallel/client/client.py:460\u001b[0m, in \u001b[0;36mClient.__init__\u001b[0;34m(self, connection_info, url_file, profile, profile_dir, ipython_dir, context, debug, sshserver, sshkey, password, paramiko, timeout, cluster_id, cluster, **extra_args)\u001b[0m\n\u001b[1;32m    457\u001b[0m         connection_info \u001b[38;5;241m=\u001b[39m json\u001b[38;5;241m.\u001b[39mload(f)\n\u001b[1;32m    459\u001b[0m \u001b[38;5;28;01mif\u001b[39;00m connection_info \u001b[38;5;129;01mis\u001b[39;00m \u001b[38;5;28;01mNone\u001b[39;00m:\n\u001b[0;32m--> 460\u001b[0m     \u001b[38;5;28;01mraise\u001b[39;00m \u001b[38;5;167;01mOSError\u001b[39;00m(no_file_msg)\n\u001b[1;32m    462\u001b[0m \u001b[38;5;28;01mif\u001b[39;00m \u001b[38;5;28misinstance\u001b[39m(connection_info, \u001b[38;5;28mdict\u001b[39m):\n\u001b[1;32m    463\u001b[0m     cfg \u001b[38;5;241m=\u001b[39m connection_info\u001b[38;5;241m.\u001b[39mcopy()\n",
      "\u001b[0;31mOSError\u001b[0m: You have attempted to connect to an IPython Cluster but no Controller could be found.\nPlease double-check your configuration and ensure that a cluster is running."
     ]
    }
   ],
   "source": [
    "import ipyparallel as ipp\n",
    "rc = ipp.Client(profile='mpi')\n",
    "rc.ids # Show engine IDs"
   ]
  },
  {
   "cell_type": "code",
   "execution_count": 8,
   "id": "501c9650-c9e9-4d53-a449-3eb59a6d149e",
   "metadata": {},
   "outputs": [],
   "source": [
    "def show_clusters():\n",
    "    clusters = ipp.ClusterManager().load_clusters() \n",
    "    print(\"{:15} {:^10} {}\".format(\"cluster_id\", \"state\", \"cluster_file\")) \n",
    "    for c in clusters:\n",
    "        cd = clusters[c].to_dict()\n",
    "        cluster_id = cd['cluster']['cluster_id']\n",
    "        controller_state = cd['controller']['state']['state']\n",
    "        cluster_file = getattr(clusters[c], '_trait_values')['cluster_file']\n",
    "        print(\"{:15} {:^10} {}\".format(cluster_id, controller_state, cluster_file))\n",
    "        "
   ]
  },
  {
   "cell_type": "code",
   "execution_count": 9,
   "id": "a9f10fcd-fc41-4537-81cf-ac3ba5125fbb",
   "metadata": {},
   "outputs": [
    {
     "name": "stdout",
     "output_type": "stream",
     "text": [
      "cluster_id        state    cluster_file\n",
      "                 running   /nfs/home2/kklemmer/.ipython/profile_default/security/cluster-.json\n"
     ]
    }
   ],
   "source": [
    "show_clusters()"
   ]
  },
  {
   "cell_type": "code",
   "execution_count": null,
   "id": "0c82420e-d89a-49ae-8075-37084861fadf",
   "metadata": {
    "tags": []
   },
   "outputs": [],
   "source": [
    "%%px\n",
    "from mpi4py import MPI\n",
    "comm = MPI.COMM_WORLD\n",
    "\n",
    "print(\"Hello! I’m rank %02d from %02d on host %s\" % (comm.Get_rank(), comm.Get_size(), MPI.Get_processor_name()))\n"
   ]
  },
  {
   "cell_type": "code",
   "execution_count": 2,
   "id": "92fa293b-f758-4295-aeb2-77323faf9748",
   "metadata": {
    "tags": []
   },
   "outputs": [
    {
     "ename": "ImportError",
     "evalue": "libmpi.so.40: cannot open shared object file: No such file or directory",
     "output_type": "error",
     "traceback": [
      "\u001b[0;31m---------------------------------------------------------------------------\u001b[0m",
      "\u001b[0;31mImportError\u001b[0m                               Traceback (most recent call last)",
      "Cell \u001b[0;32mIn[2], line 1\u001b[0m\n\u001b[0;32m----> 1\u001b[0m \u001b[38;5;28;01mfrom\u001b[39;00m \u001b[38;5;21;01mmpi4py\u001b[39;00m \u001b[38;5;28;01mimport\u001b[39;00m MPI\n",
      "\u001b[0;31mImportError\u001b[0m: libmpi.so.40: cannot open shared object file: No such file or directory"
     ]
    }
   ],
   "source": [
    "\n",
    "\n",
    "def floris_model_func_parallel(input_params_matrix, param_names):\n",
    "    # Function that is given as an input to the sobolIndices class\n",
    "    # Needs to take a matrix of input parameter samples and output farm power\n",
    "    # param_names is also given to parse the names of the parameters\n",
    "    \n",
    "    # TODO: parallelize\n",
    "    comm = MPI.COMM_WORLD\n",
    "    rank = comm.Get_rank()\n",
    "    size = comm.Get_size()\n",
    "\n",
    "    b = 3\n",
    "\n",
    "    # Initialize FLORIS with the given input file via FlorisInterface.\n",
    "    # For basic usage, FlorisInterface provides a simplified and expressive\n",
    "    # entry point to the simulation routines.\n",
    "\n",
    "    # each thread gets its own floris interface\n",
    "\n",
    "    if rank == 0:\n",
    "         input_params_matrix = split(input_params_matrix,size)\n",
    "\n",
    "    recvbuf = comm.scatter(matrix, root=0)\n",
    "\n",
    "    if rank == 0:\n",
    "        f_array = np.array([np.shape(input_params_matrix)[0]])\n",
    "\n",
    "    f_array_entry = np.array([np.shape(recvbuf)[0]])\n",
    "\n",
    "    fi = FlorisInterface('/home/kklemmer/floris/examples/inputs/gch.yaml')\n",
    "    \n",
    "        ### Define farm orientation ###                                                                                                                                               \n",
    "    df_tl = pd.read_csv('/home/kklemmer/floris/examples/inputs/VW1_turbine_locations_byD.csv', header=None)\n",
    "\n",
    "    # turbine hub height (IEA Wind 15MW)                                                                                                                                           \n",
    "    H = 140\n",
    "    # rotor diameter (IEA Wind 15-MW)                                                                                                                                              \n",
    "    D = 150\n",
    "\n",
    "    # x coordinates                                                                                                                                                               \n",
    "    x_coords = np.array(df_tl[0])\n",
    "    layout_x = D*x_coords\n",
    "    #y coordinates                                                                                                                                                                \n",
    "    y_coords = np.array(df_tl[1])\n",
    "    layout_y = D*y_coords\n",
    "\n",
    "    # Reinitialize with layout from previous relevant kernel                                                                                                                      \n",
    "    fi.reinitialize(layout_x=layout_x, layout_y=layout_y)\n",
    "    \n",
    "    with open('/home/kklemmer/floris/examples/inputs/gch.yaml', 'r') as stream:\n",
    "        fd=yaml.safe_load(stream)\n",
    "            \n",
    "            \n",
    "    fd['farm']['layout_x'] = layout_x\n",
    "    fd['farm']['layout_y'] = layout_y\n",
    "    \n",
    "    \n",
    "    model_params = make_model_params_dict(input_params_matrix, param_names)\n",
    "    \n",
    "    if rank == 0:\n",
    "        print(\"Starting floris calculations\")\n",
    "        sys.stdout.flush()\n",
    "\n",
    "    comm.Barrier()\n",
    "\n",
    "    for row in range(np.shape(recvbuf)[0]):\n",
    "        # loop over samples\n",
    "\n",
    "        # update fi\n",
    "        fi = update_fi_params(fd, model_params, row)\n",
    "\n",
    "        # calculate farm power\n",
    "        f[row] = farm_power_calc(fi)\n",
    "\n",
    "    end_time = time.time()\n",
    "\n",
    "    comm.Barrier()\n",
    "\n",
    "     f = comm.gather(wind_dict_entry,root=0)\n",
    "        \n",
    "    return f"
   ]
  },
  {
   "cell_type": "code",
   "execution_count": 30,
   "id": "f3bdeecc-534a-4509-b4f1-07b6a9d39bca",
   "metadata": {
    "tags": []
   },
   "outputs": [],
   "source": [
    "import os"
   ]
  },
  {
   "cell_type": "code",
   "execution_count": 32,
   "id": "99938fcb-c637-4241-9f99-ad0c0b8d6135",
   "metadata": {
    "tags": []
   },
   "outputs": [
    {
     "data": {
      "text/plain": [
       "'/home/kklemmer/.conda/envs/florisenv'"
      ]
     },
     "execution_count": 32,
     "metadata": {},
     "output_type": "execute_result"
    }
   ],
   "source": [
    "os.environ['CONDA_PREFIX']"
   ]
  },
  {
   "cell_type": "code",
   "execution_count": 26,
   "id": "95bfad98-b483-4c1b-83cf-f97178f7d543",
   "metadata": {
    "tags": []
   },
   "outputs": [
    {
     "data": {
      "text/plain": [
       "array([0., 0., 0., 0., 0., 0., 0., 0., 0., 0.])"
      ]
     },
     "execution_count": 26,
     "metadata": {},
     "output_type": "execute_result"
    }
   ],
   "source": [
    "def split(a,n):\n",
    "    '''                                                                                                                                                                           \n",
    "    INPUTS:                                                                                                                                                                       \n",
    "    a - data to be split (array, dataframe, list, etc)                                                                                                                            \n",
    "    n - (int) number of ways to split data                                                                                                                                        \n",
    "                                                                                                                                                                                  \n",
    "    OUTPUT                                                                                                                                                                        \n",
    "    list of n elements each with a fractional piece of a (original data)                                                                                                          \n",
    "    '''\n",
    "    k, m = divmod(len(a), n)\n",
    "    return list(a[i * k + min(i, m):(i + 1) * k + min(i + 1, m)] for i in range(n))\n",
    "\n",
    "def"
   ]
  },
  {
   "cell_type": "code",
   "execution_count": 46,
   "id": "57eb59d6-e08a-4c55-8260-ff9d774a655e",
   "metadata": {
    "tags": []
   },
   "outputs": [
    {
     "data": {
      "text/plain": [
       "array([[2.26420000e+02, 1.93900000e+01, 2.27155395e-02],\n",
       "       [8.10800000e+01, 1.41800000e+01, 3.52609309e-02],\n",
       "       [2.04690000e+02, 5.17000000e+00, 1.38132078e-01],\n",
       "       [2.93380000e+02, 1.29900000e+01, 9.25710086e-02],\n",
       "       [3.06310000e+02, 1.11800000e+01, 1.45716475e-01],\n",
       "       [2.43660000e+02, 5.35000000e+00, 1.86915888e-02],\n",
       "       [6.12000000e+01, 1.48800000e+01, 4.46794896e-02],\n",
       "       [2.87250000e+02, 1.67200000e+01, 8.32178332e-02],\n",
       "       [2.70010000e+02, 7.72000000e+00, 1.30565836e-01],\n",
       "       [2.03340000e+02, 1.08400000e+01, 2.50949640e-02],\n",
       "       [3.47670000e+02, 5.40000000e+00, 1.66048235e-01],\n",
       "       [2.37870000e+02, 6.29000000e+00, 0.00000000e+00],\n",
       "       [1.36050000e+02, 2.20000000e+00, 8.86072213e-02],\n",
       "       [2.27580000e+02, 7.66000000e+00, 1.84807711e-01],\n",
       "       [1.72960000e+02, 1.53800000e+01, 3.68953471e-02],\n",
       "       [1.94680000e+02, 1.65800000e+01, 3.32546411e-02],\n",
       "       [2.24530000e+02, 1.12300000e+01, 2.06926982e-02],\n",
       "       [2.20580000e+02, 2.12600000e+01, 3.79221907e-02],\n",
       "       [5.70800000e+01, 1.58700000e+01, 5.78201374e-02],\n",
       "       [1.07630000e+02, 3.57000000e+00, 1.34337017e-01],\n",
       "       [9.60700000e+01, 6.08000000e+00, 8.97851583e-02],\n",
       "       [1.71110000e+02, 6.55000000e+00, 6.47731403e-02],\n",
       "       [2.66920000e+02, 1.36400000e+01, 2.19941349e-02],\n",
       "       [3.35960000e+02, 7.69000000e+00, 1.72320091e-01],\n",
       "       [1.99220000e+02, 1.02100000e+01, 2.31775897e-02],\n",
       "       [2.54770000e+02, 2.38600000e+01, 7.79141662e-02],\n",
       "       [1.00070000e+02, 1.05900000e+01, 2.23459104e-02],\n",
       "       [3.11480000e+02, 1.57400000e+01, 9.81364834e-02],\n",
       "       [3.44530000e+02, 9.44000000e+00, 1.01496098e-01],\n",
       "       [2.78280000e+02, 6.15000000e+00, 1.62601626e-02],\n",
       "       [1.88990000e+02, 3.78000000e+00, 2.36620950e-02],\n",
       "       [1.47980000e+02, 4.11000000e+00, 8.42847108e-02],\n",
       "       [2.15590000e+02, 1.59000000e+01, 1.48832196e-02],\n",
       "       [2.26070000e+02, 1.30200000e+01, 2.25236226e-02],\n",
       "       [2.27480000e+02, 1.06200000e+01, 7.29375395e-03],\n",
       "       [2.28530000e+02, 1.35600000e+01, 2.91274597e-02],\n",
       "       [2.41880000e+02, 1.71800000e+01, 1.96530186e-02],\n",
       "       [3.32650000e+02, 1.03400000e+01, 1.45903460e-01],\n",
       "       [3.03650000e+02, 6.11000000e+00, 1.72277543e-01],\n",
       "       [2.75790000e+02, 1.16200000e+01, 4.32010341e-02],\n",
       "       [3.22500000e+02, 1.53400000e+01, 1.16613715e-02],\n",
       "       [2.79250000e+02, 3.19000000e+00, 1.98261922e-01],\n",
       "       [2.55140000e+02, 6.94000000e+00, 1.51947278e-01],\n",
       "       [2.49890000e+02, 1.56700000e+01, 4.01586030e-02],\n",
       "       [2.36380000e+02, 9.17000000e+00, 3.08443525e-02],\n",
       "       [2.49520000e+02, 1.42900000e+01, 0.00000000e+00],\n",
       "       [2.15670000e+02, 2.06900000e+01, 2.97156620e-02],\n",
       "       [5.52500000e+01, 6.51000000e+00, 1.64441459e-01],\n",
       "       [2.96740000e+02, 4.21000000e+00, 7.35958831e-02],\n",
       "       [2.73110000e+02, 1.29900000e+01, 8.43298780e-03],\n",
       "       [2.11280000e+02, 1.50400000e+01, 4.61610504e-02],\n",
       "       [1.92440000e+02, 5.81000000e+00, 1.15459620e-01],\n",
       "       [2.26090000e+02, 7.67000000e+00, 2.67195587e-02],\n",
       "       [1.43510000e+02, 1.47700000e+01, 5.55839560e-02],\n",
       "       [2.94260000e+02, 1.27300000e+01, 8.12575054e-02],\n",
       "       [7.78800000e+01, 5.45000000e+00, 0.00000000e+00],\n",
       "       [2.71890000e+02, 1.20500000e+01, 5.97279808e-02],\n",
       "       [3.58670000e+02, 9.53000000e+00, 4.09099448e-02],\n",
       "       [3.72600000e+01, 1.17100000e+01, 4.16611816e-02],\n",
       "       [2.12090000e+02, 1.23900000e+01, 1.02091288e-02],\n",
       "       [2.54600000e+01, 8.63000000e+00, 5.43501247e-02],\n",
       "       [2.95910000e+02, 3.58000000e+00, 0.00000000e+00],\n",
       "       [2.81960000e+02, 8.76000000e+00, 1.51099471e-01],\n",
       "       [2.32850000e+02, 1.41900000e+01, 3.46677206e-02],\n",
       "       [7.91800000e+01, 5.49000000e+00, 2.70171165e-02],\n",
       "       [2.22870000e+02, 1.55000000e+00, 4.99739787e-02],\n",
       "       [2.77340000e+02, 6.41000000e+00, 2.03167808e-01],\n",
       "       [1.03190000e+02, 1.08800000e+01, 5.26390480e-02],\n",
       "       [2.89250000e+02, 7.58000000e+00, 6.90567405e-02],\n",
       "       [2.91770000e+02, 1.48800000e+01, 9.09122934e-02],\n",
       "       [2.29310000e+02, 9.43000000e+00, 0.00000000e+00],\n",
       "       [4.51200000e+01, 4.20000000e+00, 3.98409536e-02],\n",
       "       [3.59200000e+02, 1.05300000e+01, 8.98929502e-02],\n",
       "       [2.08260000e+02, 1.09500000e+01, 2.34616120e-02],\n",
       "       [9.96200000e+01, 9.57000000e+00, 5.28698459e-02],\n",
       "       [2.11040000e+02, 1.11100000e+01, 8.91043649e-02],\n",
       "       [2.21560000e+02, 1.40500000e+01, 2.22811044e-02],\n",
       "       [6.09700000e+01, 6.43000000e+00, 0.00000000e+00],\n",
       "       [2.33810000e+02, 1.27700000e+01, 1.16150329e-02],\n",
       "       [2.35150000e+02, 2.05700000e+01, 3.04374834e-02],\n",
       "       [2.40000000e-01, 1.04200000e+01, 1.01564350e-01],\n",
       "       [2.16580000e+02, 5.94000000e+00, 1.84418370e-02],\n",
       "       [2.06880000e+02, 2.01100000e+01, 2.81295587e-02],\n",
       "       [2.51160000e+02, 5.50000000e+00, 1.41070289e-01],\n",
       "       [2.22030000e+02, 2.13400000e+01, 2.25709364e-02],\n",
       "       [6.09600000e+01, 1.46600000e+01, 6.70431780e-02],\n",
       "       [2.40330000e+02, 1.07700000e+01, 2.55971193e-02],\n",
       "       [3.03060000e+02, 1.77300000e+01, 9.92731885e-02],\n",
       "       [2.91220000e+02, 1.65700000e+01, 7.41102302e-02],\n",
       "       [1.91540000e+02, 1.30900000e+01, 4.38851234e-02],\n",
       "       [1.41710000e+02, 1.11900000e+01, 0.00000000e+00],\n",
       "       [2.54930000e+02, 4.29000000e+00, 1.04245593e-02],\n",
       "       [2.61190000e+02, 1.39700000e+01, 1.39538931e-02],\n",
       "       [2.58300000e+02, 1.04300000e+01, 2.71181891e-02],\n",
       "       [1.64930000e+02, 4.40000000e+00, 1.01639454e-02],\n",
       "       [3.09860000e+02, 8.39000000e+00, 2.00153226e-01],\n",
       "       [3.00000000e+01, 6.86000000e+00, 1.66206330e-01],\n",
       "       [1.48140000e+02, 3.16000000e+00, 1.50441321e-01],\n",
       "       [3.56280000e+02, 4.15000000e+00, 5.70224557e-02],\n",
       "       [2.02190000e+02, 1.32800000e+01, 3.36757226e-03]])"
      ]
     },
     "execution_count": 46,
     "metadata": {},
     "output_type": "execute_result"
    }
   ],
   "source": [
    "def some_func(matrix)\n",
    "comm = MPI.COMM_WORLD\n",
    "rank = comm.Get_rank()\n",
    "size = comm.Get_size()\n",
    "\n",
    "b = 3\n",
    "    \n",
    "# Initialize FLORIS with the given input file via FlorisInterface.\n",
    "# For basic usage, FlorisInterface provides a simplified and expressive\n",
    "# entry point to the simulation routines.\n",
    "\n",
    "# each thread gets its own floris interface\n",
    "        \n",
    "if rank == 0:\n",
    "     matrix = split(matrix,size)\n",
    "\n",
    "recvbuf = comm.scatter(matrix, root=0)\n",
    "\n",
    "if rank == 0:\n",
    "    f_array = np.array([np.shape(matrix)[0]])\n",
    "\n",
    "f_array_entry = np.array([np.shape(recvbuf)[0]])\n",
    "\n",
    "if rank == 0:\n",
    "    print(\"Starting floris calculations\")\n",
    "    sys.stdout.flush()\n",
    "\n",
    "comm.Barrier()\n",
    "\n",
    "for row in range(N):\n",
    "    # loop over samples\n",
    "\n",
    "    # update fi\n",
    "    fi = update_fi_params(fd, model_params, row)\n",
    "\n",
    "    # calculate farm power\n",
    "    f[row] = farm_power_calc(fi)\n",
    "\n",
    "end_time = time.time()\n",
    "\n",
    "comm.Barrier()\n",
    "\n",
    "data = comm.gather(wind_dict_entry,root=0)"
   ]
  },
  {
   "cell_type": "code",
   "execution_count": 20,
   "id": "7d276f6a-f6ab-4213-8b88-9ae1d89a625d",
   "metadata": {
    "tags": []
   },
   "outputs": [
    {
     "data": {
      "text/plain": [
       "array([3.98297318, 2.55051872, 3.21529351, 1.72244094, 1.70190422,\n",
       "       3.60872258, 1.67616085, 3.1112402 , 1.56092777, 3.73653546])"
      ]
     },
     "execution_count": 20,
     "metadata": {},
     "output_type": "execute_result"
    }
   ],
   "source": [
    "n_prior.rvs(10)"
   ]
  },
  {
   "cell_type": "code",
   "execution_count": null,
   "id": "e45ec8e3-7a4c-4e27-acb8-b16b2e56f9d8",
   "metadata": {},
   "outputs": [],
   "source": []
  }
 ],
 "metadata": {
  "kernelspec": {
   "display_name": "Python 3 (ipykernel)",
   "language": "python",
   "name": "python3"
  },
  "language_info": {
   "codemirror_mode": {
    "name": "ipython",
    "version": 3
   },
   "file_extension": ".py",
   "mimetype": "text/x-python",
   "name": "python",
   "nbconvert_exporter": "python",
   "pygments_lexer": "ipython3",
   "version": "3.12.1"
  }
 },
 "nbformat": 4,
 "nbformat_minor": 5
}
