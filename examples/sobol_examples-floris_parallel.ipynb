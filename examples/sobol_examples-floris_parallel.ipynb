{
 "cells": [
  {
   "cell_type": "code",
   "execution_count": 1,
   "id": "b5cbbd24-27d5-47a8-8d39-21bc23f56862",
   "metadata": {
    "tags": []
   },
   "outputs": [],
   "source": [
    "from sobol import sobolIndices, inputParam\n",
    "import numpy as np\n",
    "\n",
    "from scipy.stats import uniform, norm\n",
    "\n",
    "import matplotlib.pyplot as plt\n",
    "\n",
    "%load_ext autoreload\n",
    "%autoreload 2"
   ]
  },
  {
   "cell_type": "markdown",
   "id": "925c54e0-345c-4c95-987e-8b9f8763bd1e",
   "metadata": {
    "tags": []
   },
   "source": [
    "# Parallel floris example"
   ]
  },
  {
   "cell_type": "markdown",
   "id": "7cd407ad-de9b-46ab-9acf-7339af720449",
   "metadata": {},
   "source": [
    "## Starting cluster"
   ]
  },
  {
   "cell_type": "code",
   "execution_count": 3,
   "id": "a9624db9-e233-40e2-bae0-ba991615306c",
   "metadata": {},
   "outputs": [],
   "source": [
    "import ipyparallel as ipp\n",
    "\n",
    "def show_clusters():\n",
    "    clusters = ipp.ClusterManager().load_clusters() \n",
    "    print(\"{:15} {:^10} {}\".format(\"cluster_id\", \"state\", \"cluster_file\")) \n",
    "    for c in clusters:\n",
    "        cd = clusters[c].to_dict()\n",
    "        cluster_id = cd['cluster']['cluster_id']\n",
    "        controller_state = cd['controller']['state']['state']\n",
    "        cluster_file = getattr(clusters[c], '_trait_values')['cluster_file']\n",
    "        print(\"{:15} {:^10} {}\".format(cluster_id, controller_state, cluster_file))\n",
    "\n",
    "# cluster = ipp.Cluster(n=4, engines='mpi')\n",
    "# await cluster.start_cluster() \n",
    "\n",
    "# show_clusters()"
   ]
  },
  {
   "cell_type": "code",
   "execution_count": 42,
   "id": "c355b7b9-7c30-4c69-8db1-57e2487d1e4a",
   "metadata": {},
   "outputs": [],
   "source": [
    "from ipyparallel import Client, error\n",
    "rc = Client(profile=\"mpi\")"
   ]
  },
  {
   "cell_type": "code",
   "execution_count": 43,
   "id": "a659d45e-5e40-4e11-913c-89f0dd21bba2",
   "metadata": {},
   "outputs": [
    {
     "ename": "CompositeError",
     "evalue": "one or more exceptions raised in: _pull\n[0:apply]NameError: name 'foo' is not defined\n[1:apply]NameError: name 'foo' is not defined\n[2:apply]NameError: name 'foo' is not defined\n[3:apply]NameError: name 'foo' is not defined",
     "output_type": "error",
     "traceback": [
      "[0:apply]:",
      "\u001b[0;31m---------------------------------------------------------------------------\u001b[0m",
      "\u001b[0;31mNameError\u001b[0m                                 Traceback (most recent call last)",
      "File \u001b[0;32m<string>:1\u001b[0m",
      "",
      "File \u001b[0;32m~/.conda/envs/sobol_floris/lib/python3.12/site-packages/ipyparallel/util.py:320\u001b[0m, in \u001b[0;36m_pull\u001b[0;34m(keys)\u001b[0m",
      "\u001b[1;32m    318\u001b[0m     \u001b[38;5;28;01mreturn\u001b[39;00m [\u001b[38;5;28meval\u001b[39m(key, user_ns) \u001b[38;5;28;01mfor\u001b[39;00m key \u001b[38;5;129;01min\u001b[39;00m keys]",
      "\u001b[1;32m    319\u001b[0m \u001b[38;5;28;01melse\u001b[39;00m:",
      "\u001b[0;32m--> 320\u001b[0m     \u001b[38;5;28;01mreturn\u001b[39;00m \u001b[38;5;28;43meval\u001b[39;49m\u001b[43m(\u001b[49m\u001b[43mkeys\u001b[49m\u001b[43m,\u001b[49m\u001b[43m \u001b[49m\u001b[43muser_ns\u001b[49m\u001b[43m)\u001b[49m",
      "",
      "File \u001b[0;32m<string>:1\u001b[0m",
      "",
      "\u001b[0;31mNameError\u001b[0m: name 'foo' is not defined",
      "",
      "[1:apply]:",
      "\u001b[0;31m---------------------------------------------------------------------------\u001b[0m",
      "\u001b[0;31mNameError\u001b[0m                                 Traceback (most recent call last)",
      "File \u001b[0;32m<string>:1\u001b[0m",
      "",
      "File \u001b[0;32m~/.conda/envs/sobol_floris/lib/python3.12/site-packages/ipyparallel/util.py:320\u001b[0m, in \u001b[0;36m_pull\u001b[0;34m(keys)\u001b[0m",
      "\u001b[1;32m    318\u001b[0m     \u001b[38;5;28;01mreturn\u001b[39;00m [\u001b[38;5;28meval\u001b[39m(key, user_ns) \u001b[38;5;28;01mfor\u001b[39;00m key \u001b[38;5;129;01min\u001b[39;00m keys]",
      "\u001b[1;32m    319\u001b[0m \u001b[38;5;28;01melse\u001b[39;00m:",
      "\u001b[0;32m--> 320\u001b[0m     \u001b[38;5;28;01mreturn\u001b[39;00m \u001b[38;5;28;43meval\u001b[39;49m\u001b[43m(\u001b[49m\u001b[43mkeys\u001b[49m\u001b[43m,\u001b[49m\u001b[43m \u001b[49m\u001b[43muser_ns\u001b[49m\u001b[43m)\u001b[49m",
      "",
      "File \u001b[0;32m<string>:1\u001b[0m",
      "",
      "\u001b[0;31mNameError\u001b[0m: name 'foo' is not defined",
      "",
      "[2:apply]:",
      "\u001b[0;31m---------------------------------------------------------------------------\u001b[0m",
      "\u001b[0;31mNameError\u001b[0m                                 Traceback (most recent call last)",
      "File \u001b[0;32m<string>:1\u001b[0m",
      "",
      "File \u001b[0;32m~/.conda/envs/sobol_floris/lib/python3.12/site-packages/ipyparallel/util.py:320\u001b[0m, in \u001b[0;36m_pull\u001b[0;34m(keys)\u001b[0m",
      "\u001b[1;32m    318\u001b[0m     \u001b[38;5;28;01mreturn\u001b[39;00m [\u001b[38;5;28meval\u001b[39m(key, user_ns) \u001b[38;5;28;01mfor\u001b[39;00m key \u001b[38;5;129;01min\u001b[39;00m keys]",
      "\u001b[1;32m    319\u001b[0m \u001b[38;5;28;01melse\u001b[39;00m:",
      "\u001b[0;32m--> 320\u001b[0m     \u001b[38;5;28;01mreturn\u001b[39;00m \u001b[38;5;28;43meval\u001b[39;49m\u001b[43m(\u001b[49m\u001b[43mkeys\u001b[49m\u001b[43m,\u001b[49m\u001b[43m \u001b[49m\u001b[43muser_ns\u001b[49m\u001b[43m)\u001b[49m",
      "",
      "File \u001b[0;32m<string>:1\u001b[0m",
      "",
      "\u001b[0;31mNameError\u001b[0m: name 'foo' is not defined",
      "",
      "[3:apply]:",
      "\u001b[0;31m---------------------------------------------------------------------------\u001b[0m",
      "\u001b[0;31mNameError\u001b[0m                                 Traceback (most recent call last)",
      "File \u001b[0;32m<string>:1\u001b[0m",
      "",
      "File \u001b[0;32m~/.conda/envs/sobol_floris/lib/python3.12/site-packages/ipyparallel/util.py:320\u001b[0m, in \u001b[0;36m_pull\u001b[0;34m(keys)\u001b[0m",
      "\u001b[1;32m    318\u001b[0m     \u001b[38;5;28;01mreturn\u001b[39;00m [\u001b[38;5;28meval\u001b[39m(key, user_ns) \u001b[38;5;28;01mfor\u001b[39;00m key \u001b[38;5;129;01min\u001b[39;00m keys]",
      "\u001b[1;32m    319\u001b[0m \u001b[38;5;28;01melse\u001b[39;00m:",
      "\u001b[0;32m--> 320\u001b[0m     \u001b[38;5;28;01mreturn\u001b[39;00m \u001b[38;5;28;43meval\u001b[39;49m\u001b[43m(\u001b[49m\u001b[43mkeys\u001b[49m\u001b[43m,\u001b[49m\u001b[43m \u001b[49m\u001b[43muser_ns\u001b[49m\u001b[43m)\u001b[49m",
      "",
      "File \u001b[0;32m<string>:1\u001b[0m",
      "",
      "\u001b[0;31mNameError\u001b[0m: name 'foo' is not defined",
      ""
     ]
    }
   ],
   "source": [
    "%px foo = 5\n",
    "\n",
    "print(rc[:]['foo'])\n",
    "rc[:]['bar'] = lambda : 2 * foo\n",
    "rc[:].apply_sync(parallel.Reference('bar'))"
   ]
  },
  {
   "cell_type": "code",
   "execution_count": null,
   "id": "f8e0298e-b6d6-4ad9-8c15-dc567e596b7c",
   "metadata": {},
   "outputs": [],
   "source": [
    "%px print(\"hello, world!\")"
   ]
  },
  {
   "cell_type": "code",
   "execution_count": null,
   "id": "1b84f701-4d7a-4e6e-ab1d-4a644c219032",
   "metadata": {},
   "outputs": [],
   "source": [
    "view = rc[:]\n",
    "\n",
    "view.activate() # enable magics"
   ]
  },
  {
   "cell_type": "code",
   "execution_count": 11,
   "id": "9624d0cf-d937-4ff1-bca8-9512307b403f",
   "metadata": {},
   "outputs": [
    {
     "data": {
      "text/plain": [
       "<AsyncResult(execute): pending>"
      ]
     },
     "execution_count": 11,
     "metadata": {},
     "output_type": "execute_result"
    }
   ],
   "source": [
    "view.run('psum.py')"
   ]
  },
  {
   "cell_type": "code",
   "execution_count": 22,
   "id": "9574648a-aa69-47db-a470-f3baff59d757",
   "metadata": {},
   "outputs": [
    {
     "data": {
      "text/plain": [
       "<AsyncResult(scatter): pending>"
      ]
     },
     "execution_count": 22,
     "metadata": {},
     "output_type": "execute_result"
    }
   ],
   "source": [
    "view.scatter('a', np.arange(32,dtype='float'))"
   ]
  },
  {
   "cell_type": "code",
   "execution_count": 23,
   "id": "f9e8fcd7-d14d-4697-9683-edf4a02283ee",
   "metadata": {},
   "outputs": [
    {
     "data": {
      "text/plain": [
       "[array([0., 1.]),\n",
       " array([2., 3.]),\n",
       " array([4., 5.]),\n",
       " array([6., 7.]),\n",
       " array([8., 9.]),\n",
       " array([10., 11.]),\n",
       " array([12., 13.]),\n",
       " array([14., 15.]),\n",
       " array([16., 17.]),\n",
       " array([18., 19.]),\n",
       " array([20., 21.]),\n",
       " array([22., 23.]),\n",
       " array([24., 25.]),\n",
       " array([26., 27.]),\n",
       " array([28., 29.]),\n",
       " array([30., 31.])]"
      ]
     },
     "execution_count": 23,
     "metadata": {},
     "output_type": "execute_result"
    }
   ],
   "source": [
    "view['a']"
   ]
  },
  {
   "cell_type": "code",
   "execution_count": 25,
   "id": "93a2a458-f7f1-4575-b7d8-7fb08638be96",
   "metadata": {},
   "outputs": [
    {
     "data": {
      "text/plain": [
       "<AsyncResult(%px): pending>"
      ]
     },
     "execution_count": 25,
     "metadata": {},
     "output_type": "execute_result"
    }
   ],
   "source": [
    "%%px\n",
    "totalsum = psum(a)"
   ]
  },
  {
   "cell_type": "code",
   "execution_count": 31,
   "id": "386f544e-2379-4af3-8c34-1355e5519d5a",
   "metadata": {},
   "outputs": [
    {
     "ename": "TypeError",
     "evalue": "names must be strs, not array(496.)",
     "output_type": "error",
     "traceback": [
      "\u001b[0;31m---------------------------------------------------------------------------\u001b[0m",
      "\u001b[0;31mTypeError\u001b[0m                                 Traceback (most recent call last)",
      "Cell \u001b[0;32mIn[31], line 1\u001b[0m\n\u001b[0;32m----> 1\u001b[0m \u001b[43mview\u001b[49m\u001b[38;5;241;43m.\u001b[39;49m\u001b[43mgather\u001b[49m\u001b[43m(\u001b[49m\u001b[43mpsum\u001b[49m\u001b[43m(\u001b[49m\u001b[43mview\u001b[49m\u001b[43m[\u001b[49m\u001b[38;5;124;43m'\u001b[39;49m\u001b[38;5;124;43ma\u001b[39;49m\u001b[38;5;124;43m'\u001b[39;49m\u001b[43m]\u001b[49m\u001b[43m)\u001b[49m\u001b[43m)\u001b[49m\n",
      "File \u001b[0;32m~/.conda/envs/sobol_floris/lib/python3.12/site-packages/decorator.py:232\u001b[0m, in \u001b[0;36mdecorate.<locals>.fun\u001b[0;34m(*args, **kw)\u001b[0m\n\u001b[1;32m    230\u001b[0m \u001b[38;5;28;01mif\u001b[39;00m \u001b[38;5;129;01mnot\u001b[39;00m kwsyntax:\n\u001b[1;32m    231\u001b[0m     args, kw \u001b[38;5;241m=\u001b[39m fix(args, kw, sig)\n\u001b[0;32m--> 232\u001b[0m \u001b[38;5;28;01mreturn\u001b[39;00m \u001b[43mcaller\u001b[49m\u001b[43m(\u001b[49m\u001b[43mfunc\u001b[49m\u001b[43m,\u001b[49m\u001b[43m \u001b[49m\u001b[38;5;241;43m*\u001b[39;49m\u001b[43m(\u001b[49m\u001b[43mextras\u001b[49m\u001b[43m \u001b[49m\u001b[38;5;241;43m+\u001b[39;49m\u001b[43m \u001b[49m\u001b[43margs\u001b[49m\u001b[43m)\u001b[49m\u001b[43m,\u001b[49m\u001b[43m \u001b[49m\u001b[38;5;241;43m*\u001b[39;49m\u001b[38;5;241;43m*\u001b[39;49m\u001b[43mkw\u001b[49m\u001b[43m)\u001b[49m\n",
      "File \u001b[0;32m~/.conda/envs/sobol_floris/lib/python3.12/site-packages/ipyparallel/client/view.py:53\u001b[0m, in \u001b[0;36msync_results\u001b[0;34m(f, self, *args, **kwargs)\u001b[0m\n\u001b[1;32m     51\u001b[0m \u001b[38;5;28mself\u001b[39m\u001b[38;5;241m.\u001b[39m_in_sync_results \u001b[38;5;241m=\u001b[39m \u001b[38;5;28;01mTrue\u001b[39;00m\n\u001b[1;32m     52\u001b[0m \u001b[38;5;28;01mtry\u001b[39;00m:\n\u001b[0;32m---> 53\u001b[0m     ret \u001b[38;5;241m=\u001b[39m \u001b[43mf\u001b[49m\u001b[43m(\u001b[49m\u001b[38;5;28;43mself\u001b[39;49m\u001b[43m,\u001b[49m\u001b[43m \u001b[49m\u001b[38;5;241;43m*\u001b[39;49m\u001b[43margs\u001b[49m\u001b[43m,\u001b[49m\u001b[43m \u001b[49m\u001b[38;5;241;43m*\u001b[39;49m\u001b[38;5;241;43m*\u001b[39;49m\u001b[43mkwargs\u001b[49m\u001b[43m)\u001b[49m\n\u001b[1;32m     54\u001b[0m \u001b[38;5;28;01mfinally\u001b[39;00m:\n\u001b[1;32m     55\u001b[0m     \u001b[38;5;28mself\u001b[39m\u001b[38;5;241m.\u001b[39m_in_sync_results \u001b[38;5;241m=\u001b[39m \u001b[38;5;28;01mFalse\u001b[39;00m\n",
      "File \u001b[0;32m~/.conda/envs/sobol_floris/lib/python3.12/site-packages/decorator.py:232\u001b[0m, in \u001b[0;36mdecorate.<locals>.fun\u001b[0;34m(*args, **kw)\u001b[0m\n\u001b[1;32m    230\u001b[0m \u001b[38;5;28;01mif\u001b[39;00m \u001b[38;5;129;01mnot\u001b[39;00m kwsyntax:\n\u001b[1;32m    231\u001b[0m     args, kw \u001b[38;5;241m=\u001b[39m fix(args, kw, sig)\n\u001b[0;32m--> 232\u001b[0m \u001b[38;5;28;01mreturn\u001b[39;00m \u001b[43mcaller\u001b[49m\u001b[43m(\u001b[49m\u001b[43mfunc\u001b[49m\u001b[43m,\u001b[49m\u001b[43m \u001b[49m\u001b[38;5;241;43m*\u001b[39;49m\u001b[43m(\u001b[49m\u001b[43mextras\u001b[49m\u001b[43m \u001b[49m\u001b[38;5;241;43m+\u001b[39;49m\u001b[43m \u001b[49m\u001b[43margs\u001b[49m\u001b[43m)\u001b[49m\u001b[43m,\u001b[49m\u001b[43m \u001b[49m\u001b[38;5;241;43m*\u001b[39;49m\u001b[38;5;241;43m*\u001b[39;49m\u001b[43mkw\u001b[49m\u001b[43m)\u001b[49m\n",
      "File \u001b[0;32m~/.conda/envs/sobol_floris/lib/python3.12/site-packages/ipyparallel/client/view.py:37\u001b[0m, in \u001b[0;36msave_ids\u001b[0;34m(f, self, *args, **kwargs)\u001b[0m\n\u001b[1;32m     35\u001b[0m n_previous \u001b[38;5;241m=\u001b[39m \u001b[38;5;28mlen\u001b[39m(\u001b[38;5;28mself\u001b[39m\u001b[38;5;241m.\u001b[39mclient\u001b[38;5;241m.\u001b[39mhistory)\n\u001b[1;32m     36\u001b[0m \u001b[38;5;28;01mtry\u001b[39;00m:\n\u001b[0;32m---> 37\u001b[0m     ret \u001b[38;5;241m=\u001b[39m \u001b[43mf\u001b[49m\u001b[43m(\u001b[49m\u001b[38;5;28;43mself\u001b[39;49m\u001b[43m,\u001b[49m\u001b[43m \u001b[49m\u001b[38;5;241;43m*\u001b[39;49m\u001b[43margs\u001b[49m\u001b[43m,\u001b[49m\u001b[43m \u001b[49m\u001b[38;5;241;43m*\u001b[39;49m\u001b[38;5;241;43m*\u001b[39;49m\u001b[43mkwargs\u001b[49m\u001b[43m)\u001b[49m\n\u001b[1;32m     38\u001b[0m \u001b[38;5;28;01mfinally\u001b[39;00m:\n\u001b[1;32m     39\u001b[0m     nmsgs \u001b[38;5;241m=\u001b[39m \u001b[38;5;28mlen\u001b[39m(\u001b[38;5;28mself\u001b[39m\u001b[38;5;241m.\u001b[39mclient\u001b[38;5;241m.\u001b[39mhistory) \u001b[38;5;241m-\u001b[39m n_previous\n",
      "File \u001b[0;32m~/.conda/envs/sobol_floris/lib/python3.12/site-packages/ipyparallel/client/view.py:804\u001b[0m, in \u001b[0;36mDirectView.gather\u001b[0;34m(self, key, dist, targets, block)\u001b[0m\n\u001b[1;32m    802\u001b[0m futures \u001b[38;5;241m=\u001b[39m []\n\u001b[1;32m    803\u001b[0m \u001b[38;5;28;01mfor\u001b[39;00m index, engineid \u001b[38;5;129;01min\u001b[39;00m \u001b[38;5;28menumerate\u001b[39m(targets):\n\u001b[0;32m--> 804\u001b[0m     ar \u001b[38;5;241m=\u001b[39m \u001b[38;5;28;43mself\u001b[39;49m\u001b[38;5;241;43m.\u001b[39;49m\u001b[43mpull\u001b[49m\u001b[43m(\u001b[49m\u001b[43mkey\u001b[49m\u001b[43m,\u001b[49m\u001b[43m \u001b[49m\u001b[43mblock\u001b[49m\u001b[38;5;241;43m=\u001b[39;49m\u001b[38;5;28;43;01mFalse\u001b[39;49;00m\u001b[43m,\u001b[49m\u001b[43m \u001b[49m\u001b[43mtargets\u001b[49m\u001b[38;5;241;43m=\u001b[39;49m\u001b[43mengineid\u001b[49m\u001b[43m)\u001b[49m\n\u001b[1;32m    805\u001b[0m     ar\u001b[38;5;241m.\u001b[39mowner \u001b[38;5;241m=\u001b[39m \u001b[38;5;28;01mFalse\u001b[39;00m\n\u001b[1;32m    806\u001b[0m     futures\u001b[38;5;241m.\u001b[39mextend(ar\u001b[38;5;241m.\u001b[39m_children)\n",
      "File \u001b[0;32m~/.conda/envs/sobol_floris/lib/python3.12/site-packages/ipyparallel/client/view.py:750\u001b[0m, in \u001b[0;36mDirectView.pull\u001b[0;34m(self, names, targets, block)\u001b[0m\n\u001b[1;32m    748\u001b[0m             \u001b[38;5;28;01mraise\u001b[39;00m \u001b[38;5;167;01mTypeError\u001b[39;00m(\u001b[38;5;124m\"\u001b[39m\u001b[38;5;124mkeys must be str, not type \u001b[39m\u001b[38;5;132;01m%r\u001b[39;00m\u001b[38;5;124m\"\u001b[39m \u001b[38;5;241m%\u001b[39m \u001b[38;5;28mtype\u001b[39m(key))\n\u001b[1;32m    749\u001b[0m \u001b[38;5;28;01melse\u001b[39;00m:\n\u001b[0;32m--> 750\u001b[0m     \u001b[38;5;28;01mraise\u001b[39;00m \u001b[38;5;167;01mTypeError\u001b[39;00m(\u001b[38;5;124m\"\u001b[39m\u001b[38;5;124mnames must be strs, not \u001b[39m\u001b[38;5;132;01m%r\u001b[39;00m\u001b[38;5;124m\"\u001b[39m \u001b[38;5;241m%\u001b[39m names)\n\u001b[1;32m    751\u001b[0m \u001b[38;5;28;01mreturn\u001b[39;00m \u001b[38;5;28mself\u001b[39m\u001b[38;5;241m.\u001b[39m_really_apply(util\u001b[38;5;241m.\u001b[39m_pull, (names,), block\u001b[38;5;241m=\u001b[39mblock, targets\u001b[38;5;241m=\u001b[39mtargets)\n",
      "\u001b[0;31mTypeError\u001b[0m: names must be strs, not array(496.)"
     ]
    }
   ],
   "source": []
  },
  {
   "cell_type": "code",
   "execution_count": 29,
   "id": "a7b75f30-e5ec-461d-8d4b-f693c7406871",
   "metadata": {},
   "outputs": [],
   "source": [
    "from mpi4py import MPI\n",
    "import numpy as np\n",
    "\n",
    "def psum(a):\n",
    "    locsum = np.sum(a)\n",
    "    rcvBuf = np.array(0.0, 'd')\n",
    "    MPI.COMM_WORLD.Allreduce([locsum, MPI.DOUBLE],\n",
    "        [rcvBuf, MPI.DOUBLE],\n",
    "        op=MPI.SUM)\n",
    "    return rcvBuf"
   ]
  },
  {
   "cell_type": "code",
   "execution_count": 16,
   "id": "9cd1d217-b900-413d-b011-3887eb515459",
   "metadata": {
    "tags": []
   },
   "outputs": [],
   "source": [
    "from floris.tools import FlorisInterface\n",
    "import yaml\n",
    "import pandas as pd"
   ]
  },
  {
   "cell_type": "code",
   "execution_count": 45,
   "id": "0bed9b2c-ceca-44e1-98eb-f8a05d3696cb",
   "metadata": {
    "tags": []
   },
   "outputs": [
    {
     "name": "stdout",
     "output_type": "stream",
     "text": [
      "100\n"
     ]
    }
   ],
   "source": [
    "param_names = ['wd', 'ws', 'ti', 'n_turb', 'n_comb']\n",
    "\n",
    "df = pd.read_csv('/nobackup1/kklemmer/VW1_data/NREL_VW1_140m_2017.csv', header=2)\n",
    "\n",
    "ti = np.divide(np.sqrt(2*np.array(df['turbulent kinetic energy at 140m (m2/s2)'])),\n",
    "               np.array(df['wind speed at 140m (m/s)']))\n",
    "\n",
    "df_dict = {'wd' : np.array(df['wind direction at 140m (deg)']), \n",
    "           'ws' : np.array(df['wind speed at 140m (m/s)']),\n",
    "           'ti' : ti}\n",
    "\n",
    "wd_ws_ti_df = pd.DataFrame(data=df_dict)\n",
    "\n",
    "# ti_df = wd_ws_ti_df.copy()\n",
    "# ti_df['wd'] = 270\n",
    "# ti_df['ws'] = 10\n",
    "\n",
    "ka_prior = uniform(loc=0, scale=0.38)\n",
    "kb_prior = uniform(loc=0, scale=0.004)\n",
    "n_prior = uniform(loc=1, scale=1)\n",
    "\n",
    "input_params = {'wd_ws_ti' : inputParam(wd_ws_ti_df, group=True),\n",
    "                'n_turb' : inputParam(n_prior),\n",
    "                'n_comb' : inputParam(n_prior)}\n",
    "\n",
    "indices = sobolIndices(model=floris_model_func_parallel, params=input_params, model_params = param_names, N=100)"
   ]
  },
  {
   "cell_type": "code",
   "execution_count": 31,
   "id": "642c591e-2827-4c60-927a-f429e99e8d0f",
   "metadata": {
    "tags": []
   },
   "outputs": [
    {
     "data": {
      "text/plain": [
       "<matplotlib.legend.Legend at 0x2aaaeca88200>"
      ]
     },
     "execution_count": 31,
     "metadata": {},
     "output_type": "execute_result"
    },
    {
     "data": {
      "image/png": "[encoded data removed]",
      "text/plain": [
       "<Figure size 640x480 with 1 Axes>"
      ]
     },
     "metadata": {},
     "output_type": "display_data"
    }
   ],
   "source": [
    "fig, ax = plt.subplots()\n",
    "\n",
    "i = 0\n",
    "for _,param in indices.params.items():\n",
    "    if i==0:\n",
    "        ax.bar(i, param.s1, color='tab:blue', label='First order')\n",
    "        ax.bar(i+1, param.sT, color='tab:red', label = 'Total')\n",
    "    else:\n",
    "        ax.bar(i, param.s1, color='tab:blue')\n",
    "        ax.bar(i+1, param.sT, color='tab:red')\n",
    "    i+=3\n",
    "    \n",
    "xlabels = input_params.keys()\n",
    "\n",
    "xticks = [1/2 + j*3 for j in range(len(xlabels))]\n",
    "\n",
    "ax.set_xticks(xticks)\n",
    "\n",
    "ax.set_xticklabels(xlabels)\n",
    "    \n",
    "fig.legend(frameon=False, bbox_to_anchor=(0.9,0.85))"
   ]
  },
  {
   "cell_type": "code",
   "execution_count": 17,
   "id": "812bd9e9-661d-4c73-bb9a-8ddcd0dce138",
   "metadata": {
    "tags": []
   },
   "outputs": [],
   "source": [
    "# functions for combining floris and sobol\n",
    "\n",
    "def make_model_params_dict(matrix, param_names):\n",
    "    model_params = {}\n",
    "    \n",
    "    for i in range(len(param_names)):\n",
    "        model_params[param_names[i]] = matrix[:,i]\n",
    "        \n",
    "    return model_params\n",
    "\n",
    "def update_fi_params(fd, model_params, row):\n",
    "    for key in model_params:\n",
    "        # check for input wind condition parameters\n",
    "        if key == 'wd':\n",
    "            fd['flow_field']['wind_directions'] = [model_params['wd'][row]]\n",
    "        elif key == 'ws':\n",
    "            fd['flow_field']['wind_speeds'] = [model_params['ws'][row]]\n",
    "        elif key == 'ti':\n",
    "            fd['flow_field']['turbulence_intensity'] = model_params['ti'][row]\n",
    "\n",
    "        # check for wake model form parameters\n",
    "        elif key == 'n_turb':\n",
    "            fd['wake']['wake_turbulence_parameters']['crespo_hernandez']['n'] = model_params['n_turb'][row]\n",
    "        elif key == 'n_comb':\n",
    "            fd['wake']['wake_combination_parameters']['sosfs']['n'] = model_params['n_comb'][row]\n",
    "        # check for wake model parameters\n",
    "        # for now use predefined parameters so the searching isn't an issue\n",
    "        elif key == 'ka':\n",
    "            fd['wake']['wake_velocity_parameters']['gauss']['ka'] = model_params['ka'][row]\n",
    "        elif key == 'kb':\n",
    "            fd['wake']['wake_velocity_parameters']['gauss']['kb'] = model_params['kb'][row]\n",
    "        else: \n",
    "            print(\"Key {} not found. Available parameters to change are wd, ws, ti, ka, and kb.\".format(key))\n",
    "            \n",
    "    # create new floris interface with updated parameters\n",
    "    fi = FlorisInterface(fd)\n",
    "    \n",
    "    return fi\n",
    "        \n",
    "def farm_power_calc(fi):\n",
    "\n",
    "    # Calculate FLORIS for the WD,WS,TI combination                                                                                                                               \n",
    "    fi.calculate_wake()\n",
    "\n",
    "    # Calculate farm power                                                                                                                                                        \n",
    "    # Sort out NaN and negative turbine power values                                                                                                                              \n",
    "    turbine_power = fi.get_turbine_powers()\n",
    "    turbine_power[turbine_power<0] = 0\n",
    "    turbine_power = np.nan_to_num(turbine_power)\n",
    "\n",
    "    # Return the farm power from the above calculation in W                                                                                                                       \n",
    "    farm_power = np.sum(turbine_power)\n",
    "\n",
    "    return farm_power\n",
    "\n",
    "def floris_model_func(input_params_matrix, param_names):\n",
    "    # Function that is given as an input to the sobolIndices class\n",
    "    # Needs to take a matrix of input parameter samples and output farm power\n",
    "    # param_names is also given to parse the names of the parameters\n",
    "\n",
    "    fi = FlorisInterface('/home/kklemmer/floris/examples/inputs/gch.yaml')\n",
    "    \n",
    "        ### Define farm orientation ###                                                                                                                                               \n",
    "    df_tl = pd.read_csv('/home/kklemmer/floris/examples/inputs/VW1_turbine_locations_byD.csv', header=None)\n",
    "\n",
    "    # turbine hub height (IEA Wind 15MW)                                                                                                                                           \n",
    "    H = 140\n",
    "    # rotor diameter (IEA Wind 15-MW)                                                                                                                                              \n",
    "    D = 150\n",
    "\n",
    "    # x coordinates                                                                                                                                                               \n",
    "    x_coords = np.array(df_tl[0])\n",
    "    layout_x = D*x_coords\n",
    "    #y coordinates                                                                                                                                                                \n",
    "    y_coords = np.array(df_tl[1])\n",
    "    layout_y = D*y_coords\n",
    "\n",
    "    # Reinitialize with layout from previous relevant kernel                                                                                                                      \n",
    "    fi.reinitialize(layout_x=layout_x, layout_y=layout_y)\n",
    "    \n",
    "    with open('/home/kklemmer/floris/examples/inputs/gch.yaml', 'r') as stream:\n",
    "        fd=yaml.safe_load(stream)\n",
    "            \n",
    "            \n",
    "    fd['farm']['layout_x'] = layout_x\n",
    "    fd['farm']['layout_y'] = layout_y\n",
    "    \n",
    "    N = np.shape(input_params_matrix)[0]\n",
    "        \n",
    "    f = np.zeros([N,])\n",
    "    \n",
    "    model_params = make_model_params_dict(input_params_matrix, param_names)\n",
    "\n",
    "    for row in range(N):\n",
    "        # loop over samples\n",
    "\n",
    "        # update fi\n",
    "        fi = update_fi_params(fd, model_params, row)\n",
    "\n",
    "        # calculate farm power\n",
    "        f[row] = farm_power_calc(fi)\n",
    "        print(row)\n",
    "    return f\n",
    "    "
   ]
  },
  {
   "cell_type": "code",
   "execution_count": 44,
   "id": "92fa293b-f758-4295-aeb2-77323faf9748",
   "metadata": {
    "tags": []
   },
   "outputs": [],
   "source": [
    "import sys\n",
    "\n",
    "def split(a,n):\n",
    "    '''                                                                                                                                                                           \n",
    "    INPUTS:                                                                                                                                                                       \n",
    "    a - data to be split (array, dataframe, list, etc)                                                                                                                            \n",
    "    n - (int) number of ways to split data                                                                                                                                        \n",
    "                                                                                                                                                                                  \n",
    "    OUTPUT                                                                                                                                                                        \n",
    "    list of n elements each with a fractional piece of a (original data)                                                                                                          \n",
    "    '''\n",
    "    k, m = divmod(len(a), n)\n",
    "    return list(a[i * k + min(i, m):(i + 1) * k + min(i + 1, m)] for i in range(n))\n",
    "\n",
    "\n",
    "def floris_model_func_parallel(input_params_matrix, param_names):\n",
    "    # Function that is given as an input to the sobolIndices class\n",
    "    # Needs to take a matrix of input parameter samples and output farm power\n",
    "    # param_names is also given to parse the names of the parameters\n",
    "    \n",
    "    # TODO: parallelize\n",
    "    comm = MPI.COMM_WORLD\n",
    "    rank = comm.Get_rank()\n",
    "    size = comm.Get_size()\n",
    "\n",
    "    print(size)\n",
    "\n",
    "    # Initialize FLORIS with the given input file via FlorisInterface.\n",
    "    # For basic usage, FlorisInterface provides a simplified and expressive\n",
    "    # entry point to the simulation routines.\n",
    "\n",
    "    # each thread gets its own floris interface\n",
    "\n",
    "    if rank == 0:\n",
    "         input_params_matrix = split(input_params_matrix,size)\n",
    "\n",
    "    recvbuf = comm.scatter(input_params_matrix, root=0)\n",
    "    \n",
    "    if rank == 0:\n",
    "        f_array = np.zeros([np.shape(input_params_matrix)[0],])\n",
    "\n",
    "    f_array_entry = np.zeros([np.shape(recvbuf)[0],])\n",
    "\n",
    "    fi = FlorisInterface('/home/kklemmer/floris/examples/inputs/gch.yaml')\n",
    "    \n",
    "        ### Define farm orientation ###                                                                                                                                               \n",
    "    df_tl = pd.read_csv('/home/kklemmer/floris/examples/inputs/VW1_turbine_locations_byD.csv', header=None)\n",
    "\n",
    "    # turbine hub height (IEA Wind 15MW)                                                                                                                                           \n",
    "    H = 140\n",
    "    # rotor diameter (IEA Wind 15-MW)                                                                                                                                              \n",
    "    D = 150\n",
    "\n",
    "    # x coordinates                                                                                                                                                               \n",
    "    x_coords = np.array(df_tl[0])\n",
    "    layout_x = D*x_coords\n",
    "    #y coordinates                                                                                                                                                                \n",
    "    y_coords = np.array(df_tl[1])\n",
    "    layout_y = D*y_coords\n",
    "\n",
    "    # Reinitialize with layout from previous relevant kernel                                                                                                                      \n",
    "    fi.reinitialize(layout_x=layout_x, layout_y=layout_y)\n",
    "    \n",
    "    with open('/home/kklemmer/floris/examples/inputs/gch.yaml', 'r') as stream:\n",
    "        fd=yaml.safe_load(stream)\n",
    "            \n",
    "            \n",
    "    fd['farm']['layout_x'] = layout_x\n",
    "    fd['farm']['layout_y'] = layout_y\n",
    "    \n",
    "    \n",
    "    model_params = make_model_params_dict(recvbuf, param_names)\n",
    "    \n",
    "    if rank == 0:\n",
    "        print(\"Starting floris calculations\")\n",
    "        sys.stdout.flush()\n",
    "\n",
    "    comm.Barrier()\n",
    "\n",
    "    for row in range(np.shape(recvbuf)[0]):\n",
    "        # loop over samples\n",
    "\n",
    "        # update fi\n",
    "        fi = update_fi_params(fd, model_params, row)\n",
    "\n",
    "        # calculate farm power\n",
    "        f_array_entry[row] = farm_power_calc(fi)\n",
    "\n",
    "        print(\"I am {} and I am on row {}.\".format(rank, row))\n",
    "        sys.stdout.flush()\n",
    "\n",
    "    end_time = time.time()\n",
    "\n",
    "    comm.Barrier()\n",
    "\n",
    "    f_array = comm.gather(f_array_entry,root=0)\n",
    "        \n",
    "    return f_array"
   ]
  },
  {
   "cell_type": "code",
   "execution_count": 30,
   "id": "f3bdeecc-534a-4509-b4f1-07b6a9d39bca",
   "metadata": {
    "tags": []
   },
   "outputs": [],
   "source": [
    "import os"
   ]
  },
  {
   "cell_type": "code",
   "execution_count": 32,
   "id": "99938fcb-c637-4241-9f99-ad0c0b8d6135",
   "metadata": {
    "tags": []
   },
   "outputs": [
    {
     "data": {
      "text/plain": [
       "'/home/kklemmer/.conda/envs/florisenv'"
      ]
     },
     "execution_count": 32,
     "metadata": {},
     "output_type": "execute_result"
    }
   ],
   "source": [
    "os.environ['CONDA_PREFIX']"
   ]
  },
  {
   "cell_type": "code",
   "execution_count": null,
   "id": "95bfad98-b483-4c1b-83cf-f97178f7d543",
   "metadata": {
    "tags": []
   },
   "outputs": [],
   "source": []
  },
  {
   "cell_type": "code",
   "execution_count": 20,
   "id": "7d276f6a-f6ab-4213-8b88-9ae1d89a625d",
   "metadata": {
    "tags": []
   },
   "outputs": [
    {
     "data": {
      "text/plain": [
       "array([3.98297318, 2.55051872, 3.21529351, 1.72244094, 1.70190422,\n",
       "       3.60872258, 1.67616085, 3.1112402 , 1.56092777, 3.73653546])"
      ]
     },
     "execution_count": 20,
     "metadata": {},
     "output_type": "execute_result"
    }
   ],
   "source": [
    "n_prior.rvs(10)"
   ]
  },
  {
   "cell_type": "code",
   "execution_count": null,
   "id": "e45ec8e3-7a4c-4e27-acb8-b16b2e56f9d8",
   "metadata": {},
   "outputs": [],
   "source": []
  }
 ],
 "metadata": {
  "kernelspec": {
   "display_name": "Python 3 (ipykernel)",
   "language": "python",
   "name": "python3"
  },
  "language_info": {
   "codemirror_mode": {
    "name": "ipython",
    "version": 3
   },
   "file_extension": ".py",
   "mimetype": "text/x-python",
   "name": "python",
   "nbconvert_exporter": "python",
   "pygments_lexer": "ipython3",
   "version": "3.12.1"
  }
 },
 "nbformat": 4,
 "nbformat_minor": 5
}
